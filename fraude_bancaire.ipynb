{
 "cells": [
  {
   "cell_type": "markdown",
   "id": "d326144c",
   "metadata": {},
   "source": [
    "# Projet IA"
   ]
  },
  {
   "cell_type": "markdown",
   "id": "1a58ff88",
   "metadata": {},
   "source": [
    "## Imports des bibliothèques"
   ]
  },
  {
   "cell_type": "code",
   "execution_count": 10,
   "id": "b6f84710",
   "metadata": {},
   "outputs": [
    {
     "name": "stdout",
     "output_type": "stream",
     "text": [
      "Requirement already satisfied: scikit-learn==1.7.0 in c:\\users\\sala\\appdata\\local\\programs\\python\\python312\\lib\\site-packages (1.7.0)\n",
      "Requirement already satisfied: numpy>=1.22.0 in c:\\users\\sala\\appdata\\local\\programs\\python\\python312\\lib\\site-packages (from scikit-learn==1.7.0) (1.26.2)\n",
      "Requirement already satisfied: scipy>=1.8.0 in c:\\users\\sala\\appdata\\local\\programs\\python\\python312\\lib\\site-packages (from scikit-learn==1.7.0) (1.11.4)\n",
      "Requirement already satisfied: joblib>=1.2.0 in c:\\users\\sala\\appdata\\local\\programs\\python\\python312\\lib\\site-packages (from scikit-learn==1.7.0) (1.3.2)\n",
      "Requirement already satisfied: threadpoolctl>=3.1.0 in c:\\users\\sala\\appdata\\local\\programs\\python\\python312\\lib\\site-packages (from scikit-learn==1.7.0) (3.2.0)\n"
     ]
    }
   ],
   "source": [
    "import pandas as pd\n",
    "import numpy as np\n",
    "import matplotlib.pyplot as plt\n",
    "import seaborn as sns\n",
    "\n",
    "!pip install scikit-learn==1.7.0\n",
    "import sklearn\n",
    "#print(f\"Scikit-learn version in current environment: {sklearn.__version__}\")\n",
    "\n",
    "from sklearn.model_selection import train_test_split\n",
    "from sklearn.preprocessing import StandardScaler\n",
    "from sklearn.metrics import confusion_matrix, classification_report, accuracy_score, precision_score, recall_score\n",
    "\n",
    "from sklearn.linear_model import LogisticRegression\n",
    "from sklearn.ensemble import RandomForestClassifier\n",
    "from sklearn.svm import SVC\n",
    "from sklearn.tree import DecisionTreeClassifier\n",
    "\n",
    "\n"
   ]
  },
  {
   "cell_type": "markdown",
   "id": "89778ea5",
   "metadata": {},
   "source": [
    "## 1. Chargez les données et les stocker dans une variable df."
   ]
  },
  {
   "cell_type": "code",
   "execution_count": 11,
   "id": "bb13c370",
   "metadata": {},
   "outputs": [
    {
     "name": "stdout",
     "output_type": "stream",
     "text": [
      "Dimensions : (2266, 14)\n"
     ]
    },
    {
     "data": {
      "text/html": [
       "<div>\n",
       "<style scoped>\n",
       "    .dataframe tbody tr th:only-of-type {\n",
       "        vertical-align: middle;\n",
       "    }\n",
       "\n",
       "    .dataframe tbody tr th {\n",
       "        vertical-align: top;\n",
       "    }\n",
       "\n",
       "    .dataframe thead th {\n",
       "        text-align: right;\n",
       "    }\n",
       "</style>\n",
       "<table border=\"1\" class=\"dataframe\">\n",
       "  <thead>\n",
       "    <tr style=\"text-align: right;\">\n",
       "      <th></th>\n",
       "      <th>Gender</th>\n",
       "      <th>Age</th>\n",
       "      <th>HouseTypeID</th>\n",
       "      <th>ContactAvaliabilityID</th>\n",
       "      <th>HomeCountry</th>\n",
       "      <th>AccountNo</th>\n",
       "      <th>CardExpiryDate</th>\n",
       "      <th>TransactionAmount</th>\n",
       "      <th>TransactionCountry</th>\n",
       "      <th>LargePurchase</th>\n",
       "      <th>ProductID</th>\n",
       "      <th>CIF</th>\n",
       "      <th>TransactionCurrencyCode</th>\n",
       "      <th>PotentialFraud</th>\n",
       "    </tr>\n",
       "  </thead>\n",
       "  <tbody>\n",
       "    <tr>\n",
       "      <th>0</th>\n",
       "      <td>0</td>\n",
       "      <td>56</td>\n",
       "      <td>1</td>\n",
       "      <td>0</td>\n",
       "      <td>1</td>\n",
       "      <td>1109976</td>\n",
       "      <td>1811</td>\n",
       "      <td>0.0062</td>\n",
       "      <td>1</td>\n",
       "      <td>0</td>\n",
       "      <td>3</td>\n",
       "      <td>11020290</td>\n",
       "      <td>1</td>\n",
       "      <td>0</td>\n",
       "    </tr>\n",
       "    <tr>\n",
       "      <th>1</th>\n",
       "      <td>0</td>\n",
       "      <td>56</td>\n",
       "      <td>1</td>\n",
       "      <td>0</td>\n",
       "      <td>1</td>\n",
       "      <td>1109976</td>\n",
       "      <td>1811</td>\n",
       "      <td>0.0062</td>\n",
       "      <td>1</td>\n",
       "      <td>0</td>\n",
       "      <td>3</td>\n",
       "      <td>11020290</td>\n",
       "      <td>1</td>\n",
       "      <td>0</td>\n",
       "    </tr>\n",
       "    <tr>\n",
       "      <th>2</th>\n",
       "      <td>0</td>\n",
       "      <td>56</td>\n",
       "      <td>1</td>\n",
       "      <td>0</td>\n",
       "      <td>1</td>\n",
       "      <td>1109976</td>\n",
       "      <td>1811</td>\n",
       "      <td>0.0062</td>\n",
       "      <td>1</td>\n",
       "      <td>0</td>\n",
       "      <td>3</td>\n",
       "      <td>11020290</td>\n",
       "      <td>1</td>\n",
       "      <td>0</td>\n",
       "    </tr>\n",
       "    <tr>\n",
       "      <th>3</th>\n",
       "      <td>0</td>\n",
       "      <td>56</td>\n",
       "      <td>1</td>\n",
       "      <td>0</td>\n",
       "      <td>1</td>\n",
       "      <td>1109976</td>\n",
       "      <td>1811</td>\n",
       "      <td>0.0062</td>\n",
       "      <td>1</td>\n",
       "      <td>0</td>\n",
       "      <td>3</td>\n",
       "      <td>11020290</td>\n",
       "      <td>1</td>\n",
       "      <td>0</td>\n",
       "    </tr>\n",
       "    <tr>\n",
       "      <th>4</th>\n",
       "      <td>0</td>\n",
       "      <td>56</td>\n",
       "      <td>1</td>\n",
       "      <td>0</td>\n",
       "      <td>1</td>\n",
       "      <td>1109976</td>\n",
       "      <td>1811</td>\n",
       "      <td>1.0354</td>\n",
       "      <td>1</td>\n",
       "      <td>0</td>\n",
       "      <td>3</td>\n",
       "      <td>11020290</td>\n",
       "      <td>1</td>\n",
       "      <td>0</td>\n",
       "    </tr>\n",
       "  </tbody>\n",
       "</table>\n",
       "</div>"
      ],
      "text/plain": [
       "   Gender  Age  HouseTypeID  ContactAvaliabilityID  HomeCountry  AccountNo  \\\n",
       "0       0   56            1                      0            1    1109976   \n",
       "1       0   56            1                      0            1    1109976   \n",
       "2       0   56            1                      0            1    1109976   \n",
       "3       0   56            1                      0            1    1109976   \n",
       "4       0   56            1                      0            1    1109976   \n",
       "\n",
       "   CardExpiryDate  TransactionAmount  TransactionCountry  LargePurchase  \\\n",
       "0            1811             0.0062                   1              0   \n",
       "1            1811             0.0062                   1              0   \n",
       "2            1811             0.0062                   1              0   \n",
       "3            1811             0.0062                   1              0   \n",
       "4            1811             1.0354                   1              0   \n",
       "\n",
       "   ProductID       CIF  TransactionCurrencyCode  PotentialFraud  \n",
       "0          3  11020290                        1               0  \n",
       "1          3  11020290                        1               0  \n",
       "2          3  11020290                        1               0  \n",
       "3          3  11020290                        1               0  \n",
       "4          3  11020290                        1               0  "
      ]
     },
     "execution_count": 11,
     "metadata": {},
     "output_type": "execute_result"
    }
   ],
   "source": [
    "df = pd.read_csv('creditcarddata.csv')\n",
    "print(\"Dimensions :\", df.shape)\n",
    "df.head()\n"
   ]
  },
  {
   "cell_type": "markdown",
   "id": "93890ca1",
   "metadata": {},
   "source": [
    "## 2 lister les différents modèles existants pour résoudre le problème "
   ]
  },
  {
   "cell_type": "markdown",
   "id": "9a4b9169",
   "metadata": {},
   "source": [
    "- 1)Régression Logistique (Logistic Regression) \n",
    "\n",
    "Modèle linéaire simple et rapide.\n",
    "\n",
    "Interprétable, bonne base pour les comparaisons.\n",
    "\n",
    "Sensible aux données déséquilibrées."
   ]
  },
  {
   "cell_type": "markdown",
   "id": "b7060a96",
   "metadata": {},
   "source": [
    "- 2)Arbre de Décision (Decision Tree)\n",
    "\n",
    "Facile à interpréter.\n",
    "\n",
    "Peut sur-apprendre si non limité (pruning, max_depth)."
   ]
  },
  {
   "cell_type": "markdown",
   "id": "e495edac",
   "metadata": {},
   "source": [
    " - 3)Forêt Aléatoire (Random Forest)\n",
    "\n",
    "Ensemble d’arbres → robuste et efficace.\n",
    "\n",
    "Gère bien les déséquilibres avec class_weight=\"balanced\"."
   ]
  },
  {
   "cell_type": "markdown",
   "id": "a47f6024",
   "metadata": {},
   "source": [
    "- 4)Support Vector Machine (SVM)\n",
    "\n",
    "Efficace pour des données peu nombreuses et bien séparées.\n",
    "\n",
    "Plus lent sur les gros volumes."
   ]
  },
  {
   "cell_type": "markdown",
   "id": "a51c01e1",
   "metadata": {},
   "source": [
    "- 5)K-Nearest Neighbors (KNN)\n",
    "\n",
    "Basé sur la proximité des points.\n",
    "\n",
    "Peut être coûteux en calcul sur de gros datasets."
   ]
  },
  {
   "cell_type": "markdown",
   "id": "0d8ddaa5",
   "metadata": {},
   "source": [
    " - 6)Gradient Boosting Machines (GBM, XGBoost, LightGBM, CatBoost)\n",
    "\n",
    "Très performants sur des jeux de données déséquilibrés.\n",
    "\n",
    "Sensibles au sur-apprentissage si mal réglés.\n",
    "\n",
    "XGBoost est souvent très utilisé en détection de fraude."
   ]
  },
  {
   "cell_type": "markdown",
   "id": "799c2fb0",
   "metadata": {},
   "source": [
    "# 3. Implémenter la phase de la préparation des données (vérification des valeurs manquantes, aberrantes, doublons, le problème de déséquilibre de classe et la normalisation des données)"
   ]
  },
  {
   "cell_type": "markdown",
   "id": "fb976681",
   "metadata": {},
   "source": [
    "### Vérifier les valeurs manquantes"
   ]
  },
  {
   "cell_type": "code",
   "execution_count": 12,
   "id": "4a599ad1",
   "metadata": {},
   "outputs": [
    {
     "name": "stdout",
     "output_type": "stream",
     "text": [
      "Valeurs manquantes par colonne :\n",
      "Gender                     0\n",
      "Age                        0\n",
      "HouseTypeID                0\n",
      "ContactAvaliabilityID      0\n",
      "HomeCountry                0\n",
      "AccountNo                  0\n",
      "CardExpiryDate             0\n",
      "TransactionAmount          0\n",
      "TransactionCountry         0\n",
      "LargePurchase              0\n",
      "ProductID                  0\n",
      "CIF                        0\n",
      "TransactionCurrencyCode    0\n",
      "PotentialFraud             0\n",
      "dtype: int64\n"
     ]
    }
   ],
   "source": [
    "print(\"Valeurs manquantes par colonne :\")\n",
    "print(df.isnull().sum())\n"
   ]
  },
  {
   "cell_type": "markdown",
   "id": "62b365be",
   "metadata": {},
   "source": [
    "### remplir les valeurs manquantes par la moyenne"
   ]
  },
  {
   "cell_type": "code",
   "execution_count": 13,
   "id": "6ac714e0",
   "metadata": {},
   "outputs": [],
   "source": [
    "df.fillna(df.mean(numeric_only=True), inplace=True)"
   ]
  },
  {
   "cell_type": "markdown",
   "id": "b58610c9",
   "metadata": {},
   "source": [
    "### Détecter les valeurs aberrantes"
   ]
  },
  {
   "cell_type": "code",
   "execution_count": 14,
   "id": "73a309ef",
   "metadata": {},
   "outputs": [
    {
     "name": "stdout",
     "output_type": "stream",
     "text": [
      "Gender : 0 valeurs aberrantes\n",
      "Age : 0 valeurs aberrantes\n",
      "HouseTypeID : 0 valeurs aberrantes\n",
      "ContactAvaliabilityID : 0 valeurs aberrantes\n",
      "HomeCountry : 0 valeurs aberrantes\n",
      "AccountNo : 153 valeurs aberrantes\n",
      "CardExpiryDate : 561 valeurs aberrantes\n",
      "TransactionAmount : 350 valeurs aberrantes\n",
      "TransactionCountry : 0 valeurs aberrantes\n",
      "LargePurchase : 7 valeurs aberrantes\n",
      "ProductID : 0 valeurs aberrantes\n",
      "CIF : 365 valeurs aberrantes\n",
      "TransactionCurrencyCode : 0 valeurs aberrantes\n",
      "PotentialFraud : 253 valeurs aberrantes\n"
     ]
    }
   ],
   "source": [
    "numeric_cols = df.select_dtypes(include=np.number).columns\n",
    "\n",
    "for col in numeric_cols:\n",
    "    q1 = df[col].quantile(0.25)\n",
    "    q3 = df[col].quantile(0.75)\n",
    "    iqr = q3 - q1\n",
    "    lower = q1 - 1.5 * iqr\n",
    "    upper = q3 + 1.5 * iqr\n",
    "    outliers = df[(df[col] < lower) | (df[col] > upper)]\n",
    "    print(f\"{col} : {len(outliers)} valeurs aberrantes\")\n"
   ]
  },
  {
   "cell_type": "markdown",
   "id": "3be1a842",
   "metadata": {},
   "source": [
    "### Supprimer les doublons"
   ]
  },
  {
   "cell_type": "code",
   "execution_count": 15,
   "id": "5f4b749b",
   "metadata": {},
   "outputs": [
    {
     "name": "stdout",
     "output_type": "stream",
     "text": [
      "Nombre de doublons : 933\n"
     ]
    }
   ],
   "source": [
    "print(\"Nombre de doublons :\", df.duplicated().sum())\n",
    "df = df.drop_duplicates()\n"
   ]
  },
  {
   "cell_type": "markdown",
   "id": "31d61fef",
   "metadata": {},
   "source": [
    "### Analyser le déséquilibre de classe"
   ]
  },
  {
   "cell_type": "code",
   "execution_count": 16,
   "id": "b6abf346",
   "metadata": {},
   "outputs": [
    {
     "data": {
      "image/png": "[encoded data removed]",
      "text/plain": [
       "<Figure size 640x480 with 1 Axes>"
      ]
     },
     "metadata": {},
     "output_type": "display_data"
    },
    {
     "name": "stdout",
     "output_type": "stream",
     "text": [
      "Counter({0: 1185, 1: 148})\n"
     ]
    }
   ],
   "source": [
    "from collections import Counter\n",
    "sns.countplot(x='PotentialFraud', data=df)\n",
    "plt.title(\"Distribution de la variable cible\")\n",
    "plt.show()\n",
    "\n",
    "print(Counter(df['PotentialFraud']))\n"
   ]
  },
  {
   "cell_type": "markdown",
   "id": "a05ed1d1",
   "metadata": {},
   "source": [
    "### Normalisation des données"
   ]
  },
  {
   "cell_type": "code",
   "execution_count": 17,
   "id": "ed391326",
   "metadata": {},
   "outputs": [],
   "source": [
    "X = df.drop('PotentialFraud', axis=1)\n",
    "y = df['PotentialFraud']\n",
    "\n",
    "\n",
    "scaler = StandardScaler()\n",
    "X_scaled = scaler.fit_transform(X)\n"
   ]
  },
  {
   "cell_type": "markdown",
   "id": "345af058",
   "metadata": {},
   "source": [
    "### Équilibrage de classes avec SMOTE"
   ]
  },
  {
   "cell_type": "code",
   "execution_count": 18,
   "id": "aefdf7f1",
   "metadata": {},
   "outputs": [
    {
     "name": "stdout",
     "output_type": "stream",
     "text": [
      "Requirement already satisfied: imbalanced-learn in c:\\users\\sala\\appdata\\local\\programs\\python\\python312\\lib\\site-packages (0.13.0)\n",
      "Requirement already satisfied: numpy<3,>=1.24.3 in c:\\users\\sala\\appdata\\local\\programs\\python\\python312\\lib\\site-packages (from imbalanced-learn) (1.26.2)\n",
      "Requirement already satisfied: scipy<2,>=1.10.1 in c:\\users\\sala\\appdata\\local\\programs\\python\\python312\\lib\\site-packages (from imbalanced-learn) (1.11.4)\n",
      "Requirement already satisfied: scikit-learn<2,>=1.3.2 in c:\\users\\sala\\appdata\\local\\programs\\python\\python312\\lib\\site-packages (from imbalanced-learn) (1.7.0)\n",
      "Requirement already satisfied: sklearn-compat<1,>=0.1 in c:\\users\\sala\\appdata\\local\\programs\\python\\python312\\lib\\site-packages (from imbalanced-learn) (0.1.3)\n",
      "Requirement already satisfied: joblib<2,>=1.1.1 in c:\\users\\sala\\appdata\\local\\programs\\python\\python312\\lib\\site-packages (from imbalanced-learn) (1.3.2)\n",
      "Requirement already satisfied: threadpoolctl<4,>=2.0.0 in c:\\users\\sala\\appdata\\local\\programs\\python\\python312\\lib\\site-packages (from imbalanced-learn) (3.2.0)\n",
      "Collecting scikit-learn<2,>=1.3.2 (from imbalanced-learn)\n",
      "  Using cached scikit_learn-1.6.1-cp312-cp312-win_amd64.whl.metadata (15 kB)\n",
      "Using cached scikit_learn-1.6.1-cp312-cp312-win_amd64.whl (11.1 MB)\n",
      "Installing collected packages: scikit-learn\n",
      "  Attempting uninstall: scikit-learn\n",
      "    Found existing installation: scikit-learn 1.7.0\n",
      "    Uninstalling scikit-learn-1.7.0:\n",
      "      Successfully uninstalled scikit-learn-1.7.0\n",
      "Successfully installed scikit-learn-1.6.1\n",
      "Après SMOTE : Counter({0: 1185, 1: 1185})\n"
     ]
    },
    {
     "name": "stderr",
     "output_type": "stream",
     "text": [
      "  WARNING: Failed to remove contents in a temporary directory 'C:\\Users\\SALA\\AppData\\Local\\Programs\\Python\\Python312\\Lib\\site-packages\\~~learn'.\n",
      "  You can safely remove it manually.\n"
     ]
    }
   ],
   "source": [
    "# pip install imbalanced-learn si nécessaire\n",
    "!pip install imbalanced-learn\n",
    "from imblearn.over_sampling import SMOTE\n",
    "\n",
    "smote = SMOTE(random_state=42)\n",
    "X_resampled, y_resampled = smote.fit_resample(X_scaled, y)\n",
    "\n",
    "print(\"Après SMOTE :\", Counter(y_resampled))\n"
   ]
  },
  {
   "cell_type": "markdown",
   "id": "4c640602",
   "metadata": {},
   "source": [
    "### 4. Divisez le jeu de données en deux partie (données d'entraînement et  données de test) on considère 30% pour les données de test et 70% pour des données d’entrainements. "
   ]
  },
  {
   "cell_type": "markdown",
   "id": "19113fb2",
   "metadata": {},
   "source": [
    "### Cas 1 : sans SMOTE (données déséquilibrées mais brutes)"
   ]
  },
  {
   "cell_type": "code",
   "execution_count": 19,
   "id": "258ff834",
   "metadata": {},
   "outputs": [
    {
     "name": "stdout",
     "output_type": "stream",
     "text": [
      "Taille jeu d'entraînement : (933, 13)\n",
      "Taille jeu de test : (400, 13)\n"
     ]
    }
   ],
   "source": [
    "from sklearn.model_selection import train_test_split\n",
    "\n",
    "X_train, X_test, y_train, y_test = train_test_split(\n",
    "    X_scaled, y, \n",
    "    test_size=0.3,       \n",
    "    random_state=42, \n",
    "    stratify=y           \n",
    ")\n",
    "\n",
    "print(\"Taille jeu d'entraînement :\", X_train.shape)\n",
    "print(\"Taille jeu de test :\", X_test.shape)\n"
   ]
  },
  {
   "cell_type": "markdown",
   "id": "a90e73bf",
   "metadata": {},
   "source": [
    "### Cas 2 : avec SMOTE (données déjà équilibrées)"
   ]
  },
  {
   "cell_type": "code",
   "execution_count": 20,
   "id": "a3b1d6fc",
   "metadata": {},
   "outputs": [
    {
     "name": "stdout",
     "output_type": "stream",
     "text": [
      "Taille jeu d'entraînement : (1659, 13)\n",
      "Taille jeu de test : (711, 13)\n"
     ]
    }
   ],
   "source": [
    "X_train, X_test, y_train, y_test = train_test_split(\n",
    "    X_resampled, y_resampled, \n",
    "    test_size=0.3,\n",
    "    random_state=42,\n",
    "    stratify=y_resampled\n",
    ")\n",
    "\n",
    "print(\"Taille jeu d'entraînement :\", X_train.shape)\n",
    "print(\"Taille jeu de test :\", X_test.shape)\n"
   ]
  },
  {
   "cell_type": "markdown",
   "id": "c05eeb43",
   "metadata": {},
   "source": [
    "### Vérification de la répartition des classes"
   ]
  },
  {
   "cell_type": "code",
   "execution_count": 21,
   "id": "532c6c13",
   "metadata": {},
   "outputs": [
    {
     "name": "stdout",
     "output_type": "stream",
     "text": [
      "Répartition y_train : Counter({1: 830, 0: 829})\n",
      "Répartition y_test : Counter({0: 356, 1: 355})\n"
     ]
    }
   ],
   "source": [
    "print(\"Répartition y_train :\", Counter(y_train))\n",
    "print(\"Répartition y_test :\", Counter(y_test))\n"
   ]
  },
  {
   "cell_type": "markdown",
   "id": "0ba5c8a9",
   "metadata": {},
   "source": [
    "### 5 Créez et entrainer les modèles lister en question 2. "
   ]
  },
  {
   "cell_type": "code",
   "execution_count": 22,
   "id": "05078c78",
   "metadata": {},
   "outputs": [],
   "source": [
    "from sklearn.linear_model import LogisticRegression\n",
    "from sklearn.tree import DecisionTreeClassifier\n",
    "from sklearn.ensemble import RandomForestClassifier\n",
    "from sklearn.svm import SVC\n",
    "\n",
    "\n",
    "models = {\n",
    "    \"Logistic Regression\": LogisticRegression(class_weight='balanced', max_iter=1000, random_state=42),\n",
    "    \"Decision Tree\": DecisionTreeClassifier(class_weight='balanced', random_state=42),\n",
    "    \"Random Forest\": RandomForestClassifier(class_weight='balanced', random_state=42),\n",
    "    \"SVM\": SVC(class_weight='balanced', probability=True, random_state=42)\n",
    "}\n"
   ]
  },
  {
   "cell_type": "markdown",
   "id": "c9dc4e15",
   "metadata": {},
   "source": [
    "### Entraînement des modèles"
   ]
  },
  {
   "cell_type": "code",
   "execution_count": 23,
   "id": "49529a71",
   "metadata": {},
   "outputs": [
    {
     "name": "stdout",
     "output_type": "stream",
     "text": [
      "\n",
      " Entraînement du modèle : Logistic Regression\n",
      "Modèle entraîné\n",
      "\n",
      " Entraînement du modèle : Decision Tree\n"
     ]
    },
    {
     "name": "stdout",
     "output_type": "stream",
     "text": [
      "Modèle entraîné\n",
      "\n",
      " Entraînement du modèle : Random Forest\n",
      "Modèle entraîné\n",
      "\n",
      " Entraînement du modèle : SVM\n",
      "Modèle entraîné\n"
     ]
    }
   ],
   "source": [
    "trained_models = {}\n",
    "\n",
    "for name, model in models.items():\n",
    "    print(f\"\\n Entraînement du modèle : {name}\")\n",
    "    model.fit(X_train, y_train)\n",
    "    trained_models[name] = model\n",
    "    print(\"Modèle entraîné\")\n"
   ]
  },
  {
   "cell_type": "markdown",
   "id": "961711da",
   "metadata": {},
   "source": [
    "### Vérification rapide des performances (Accuracy sur test set)"
   ]
  },
  {
   "cell_type": "code",
   "execution_count": 24,
   "id": "8279da26",
   "metadata": {},
   "outputs": [
    {
     "name": "stdout",
     "output_type": "stream",
     "text": [
      "Logistic Regression - Accuracy : 0.69\n",
      "Decision Tree - Accuracy : 0.83\n"
     ]
    },
    {
     "name": "stdout",
     "output_type": "stream",
     "text": [
      "Random Forest - Accuracy : 0.87\n",
      "SVM - Accuracy : 0.75\n"
     ]
    }
   ],
   "source": [
    "from sklearn.metrics import accuracy_score\n",
    "\n",
    "for name, model in trained_models.items():\n",
    "    y_pred = model.predict(X_test)\n",
    "    acc = accuracy_score(y_test, y_pred)\n",
    "    print(f\"{name} - Accuracy : {acc:.2f}\")\n"
   ]
  },
  {
   "cell_type": "markdown",
   "id": "e8381b29",
   "metadata": {},
   "source": [
    "## 6 Evaluer les différents modèles entrainer sur les données de test (tracer la matrice de confusion et analyser chaque matrice de confusion pour chaque modèle entrainer)."
   ]
  },
  {
   "cell_type": "markdown",
   "id": "fa839d24",
   "metadata": {},
   "source": [
    "### Évaluation pour chaque modèle"
   ]
  },
  {
   "cell_type": "code",
   "execution_count": 25,
   "id": "4ea2361b",
   "metadata": {},
   "outputs": [
    {
     "name": "stdout",
     "output_type": "stream",
     "text": [
      "\n",
      "===  Évaluation du modèle : Logistic Regression ===\n"
     ]
    },
    {
     "data": {
      "image/png": "[encoded data removed]",
      "text/plain": [
       "<Figure size 500x400 with 1 Axes>"
      ]
     },
     "metadata": {},
     "output_type": "display_data"
    },
    {
     "name": "stdout",
     "output_type": "stream",
     "text": [
      "              precision    recall  f1-score   support\n",
      "\n",
      "  Non Fraude       0.83      0.49      0.61       356\n",
      "      Fraude       0.64      0.90      0.75       355\n",
      "\n",
      "    accuracy                           0.69       711\n",
      "   macro avg       0.73      0.69      0.68       711\n",
      "weighted avg       0.73      0.69      0.68       711\n",
      "\n",
      "\n",
      "===  Évaluation du modèle : Decision Tree ===\n"
     ]
    },
    {
     "data": {
      "image/png": "[encoded data removed]",
      "text/plain": [
       "<Figure size 500x400 with 1 Axes>"
      ]
     },
     "metadata": {},
     "output_type": "display_data"
    },
    {
     "name": "stdout",
     "output_type": "stream",
     "text": [
      "              precision    recall  f1-score   support\n",
      "\n",
      "  Non Fraude       0.83      0.84      0.84       356\n",
      "      Fraude       0.84      0.83      0.83       355\n",
      "\n",
      "    accuracy                           0.83       711\n",
      "   macro avg       0.83      0.83      0.83       711\n",
      "weighted avg       0.83      0.83      0.83       711\n",
      "\n",
      "\n",
      "===  Évaluation du modèle : Random Forest ===\n"
     ]
    },
    {
     "data": {
      "image/png": "[encoded data removed]",
      "text/plain": [
       "<Figure size 500x400 with 1 Axes>"
      ]
     },
     "metadata": {},
     "output_type": "display_data"
    },
    {
     "name": "stdout",
     "output_type": "stream",
     "text": [
      "              precision    recall  f1-score   support\n",
      "\n",
      "  Non Fraude       0.89      0.84      0.87       356\n",
      "      Fraude       0.85      0.90      0.87       355\n",
      "\n",
      "    accuracy                           0.87       711\n",
      "   macro avg       0.87      0.87      0.87       711\n",
      "weighted avg       0.87      0.87      0.87       711\n",
      "\n",
      "\n",
      "===  Évaluation du modèle : SVM ===\n"
     ]
    },
    {
     "data": {
      "image/png": "[encoded data removed]",
      "text/plain": [
       "<Figure size 500x400 with 1 Axes>"
      ]
     },
     "metadata": {},
     "output_type": "display_data"
    },
    {
     "name": "stdout",
     "output_type": "stream",
     "text": [
      "              precision    recall  f1-score   support\n",
      "\n",
      "  Non Fraude       0.92      0.54      0.68       356\n",
      "      Fraude       0.68      0.95      0.79       355\n",
      "\n",
      "    accuracy                           0.75       711\n",
      "   macro avg       0.80      0.75      0.74       711\n",
      "weighted avg       0.80      0.75      0.74       711\n",
      "\n"
     ]
    }
   ],
   "source": [
    "for name, model in trained_models.items():\n",
    "    print(f\"\\n===  Évaluation du modèle : {name} ===\")\n",
    "    \n",
    "    y_pred = model.predict(X_test)\n",
    "    \n",
    "\n",
    "    cm = confusion_matrix(y_test, y_pred)\n",
    "    \n",
    "\n",
    "    plt.figure(figsize=(5,4))\n",
    "    sns.heatmap(cm, annot=True, fmt='d', cmap='Blues', cbar=False)\n",
    "    plt.title(f\"Matrice de confusion - {name}\")\n",
    "    plt.xlabel(\"Prédit\")\n",
    "    plt.ylabel(\"Réel\")\n",
    "    plt.show()\n",
    "    \n",
    "\n",
    "    print(classification_report(y_test, y_pred, target_names=[\"Non Fraude\", \"Fraude\"]))\n"
   ]
  },
  {
   "cell_type": "markdown",
   "id": "643258fa",
   "metadata": {},
   "source": [
    "### Interprétation de la matrice de confusion"
   ]
  },
  {
   "cell_type": "markdown",
   "id": "c669f930",
   "metadata": {},
   "source": [
    "Prédit : Non Fraude (0)\tPrédit : Fraude (1)\n",
    "Réel : 0\tVrai Négatif (TN)\tFaux Positif (FP)\n",
    "Réel : 1\tFaux Négatif (FN)\tVrai Positif (TP)\n",
    "\n",
    "- Vrai Positif (TP) : C'est lorsque le modèle a correctement détecté une fraude. Le modèle a prédit \"Fraude\" et la réalité était bien \"Fraude\". C'est un succès direct dans la détection.\n",
    "\n",
    "- Faux Négatif (FN) : C'est le scénario le plus critique dans la détection de fraude. Le modèle a prédit \"Non Fraude\", mais en réalité, il s'agissait bien d'une fraude. C'est une fraude qui est passée inaperçue, ce qui peut avoir des conséquences financières graves.\n",
    "\n",
    "- Faux Positif (FP) : Ici, le modèle a prédit \"Fraude\", mais en réalité, le client était honnête. Cela signifie qu'un client légitime a été signalé à tort comme fraudeur. C'est moins grave qu'un faux négatif, mais cela peut entraîner des désagréments pour le client et des coûts opérationnels (vérifications inutiles).\n",
    "\n",
    "- Vrai Négatif (TN) : Le modèle a correctement identifié un client honnête. Il a prédit \"Non Fraude\" et la réalité était bien \"Non Fraude\". C'est un signe que le modèle est efficace pour confirmer les transactions légitimes.\n",
    "\n",
    "\n",
    "\n",
    "\n",
    "#### Objectifs pour notre Modèle de Détection de Fraude\n",
    "Lorsque que nous construisons un modèle de détection de fraude, nos objectifs sont clairs :\n",
    "\n",
    "Visez un Rappel (Recall) élevé sur la classe \"Fraude\" : Le rappel mesure la capacité de votre modèle à détecter toutes les fraudes réelles. Un rappel élevé signifie que votre modèle capture le maximum de fraudes possibles, minimisant ainsi les Faux Négatifs (FN), qui sont les cas les plus coûteux à manquer.\n",
    "\n",
    "Recherchez un bon équilibre avec la Précision : La précision mesure la proportion de prédictions de fraude qui sont réellement des fraudes. Bien qu'un rappel élevé soit primordial, il ne faut pas qu'il se fasse au détriment d'une précision trop faible, ce qui entraînerait un trop grand nombre de Faux Positifs (FP). Un excès de faux positifs peut surcharger votre équipe d'enquête et frustrer vos clients légitimes.\n",
    "\n",
    "L'enjeu est donc de trouver le juste milieu : un modèle capable de déceler un maximum de fraudes sans pour autant générer trop de fausses alertes.\n",
    "\n",
    "\n",
    "\n"
   ]
  },
  {
   "cell_type": "markdown",
   "id": "04e23c72",
   "metadata": {},
   "source": [
    "### 7 Déterminer l’accuracy, la précision et le rappel pour chaque modèle entrainer. "
   ]
  },
  {
   "cell_type": "code",
   "execution_count": 26,
   "id": "da8ea851",
   "metadata": {},
   "outputs": [],
   "source": [
    "from sklearn.metrics import accuracy_score, precision_score, recall_score\n",
    "\n",
    "metrics_results = {}\n",
    "\n",
    "for name, model in trained_models.items():\n",
    "    y_pred = model.predict(X_test)\n",
    "    \n",
    "    acc = accuracy_score(y_test, y_pred)\n",
    "    prec = precision_score(y_test, y_pred)\n",
    "    recall = recall_score(y_test, y_pred)\n",
    "    \n",
    "    metrics_results[name] = {\n",
    "        \"Accuracy\": acc,\n",
    "        \"Précision\": prec,\n",
    "        \"Rappel\": recall\n",
    "    }\n"
   ]
  },
  {
   "cell_type": "markdown",
   "id": "5eee7e8b",
   "metadata": {},
   "source": [
    "### Affichage des résultats dans un tableau"
   ]
  },
  {
   "cell_type": "code",
   "execution_count": 27,
   "id": "bfec2b0b",
   "metadata": {},
   "outputs": [
    {
     "name": "stdout",
     "output_type": "stream",
     "text": [
      "Comparaison des métriques par modèle :\n"
     ]
    },
    {
     "data": {
      "text/html": [
       "<div>\n",
       "<style scoped>\n",
       "    .dataframe tbody tr th:only-of-type {\n",
       "        vertical-align: middle;\n",
       "    }\n",
       "\n",
       "    .dataframe tbody tr th {\n",
       "        vertical-align: top;\n",
       "    }\n",
       "\n",
       "    .dataframe thead th {\n",
       "        text-align: right;\n",
       "    }\n",
       "</style>\n",
       "<table border=\"1\" class=\"dataframe\">\n",
       "  <thead>\n",
       "    <tr style=\"text-align: right;\">\n",
       "      <th></th>\n",
       "      <th>Accuracy</th>\n",
       "      <th>Précision</th>\n",
       "      <th>Rappel</th>\n",
       "    </tr>\n",
       "  </thead>\n",
       "  <tbody>\n",
       "    <tr>\n",
       "      <th>Logistic Regression</th>\n",
       "      <td>0.693</td>\n",
       "      <td>0.637</td>\n",
       "      <td>0.899</td>\n",
       "    </tr>\n",
       "    <tr>\n",
       "      <th>Decision Tree</th>\n",
       "      <td>0.834</td>\n",
       "      <td>0.838</td>\n",
       "      <td>0.828</td>\n",
       "    </tr>\n",
       "    <tr>\n",
       "      <th>Random Forest</th>\n",
       "      <td>0.869</td>\n",
       "      <td>0.847</td>\n",
       "      <td>0.901</td>\n",
       "    </tr>\n",
       "    <tr>\n",
       "      <th>SVM</th>\n",
       "      <td>0.747</td>\n",
       "      <td>0.675</td>\n",
       "      <td>0.949</td>\n",
       "    </tr>\n",
       "  </tbody>\n",
       "</table>\n",
       "</div>"
      ],
      "text/plain": [
       "                     Accuracy  Précision  Rappel\n",
       "Logistic Regression     0.693      0.637   0.899\n",
       "Decision Tree           0.834      0.838   0.828\n",
       "Random Forest           0.869      0.847   0.901\n",
       "SVM                     0.747      0.675   0.949"
      ]
     },
     "metadata": {},
     "output_type": "display_data"
    }
   ],
   "source": [
    "import pandas as pd\n",
    "\n",
    "df_metrics = pd.DataFrame(metrics_results).T  \n",
    "df_metrics = df_metrics.round(3)  \n",
    "\n",
    "print(\"Comparaison des métriques par modèle :\")\n",
    "display(df_metrics)\n"
   ]
  },
  {
   "cell_type": "markdown",
   "id": "97a94820",
   "metadata": {},
   "source": [
    "### 8 Faite une étude de comparaisons des différents modèles implémentés sur la base des métriques tel que la matrice de confusion, l’accuracy, la précision et le rappel. "
   ]
  },
  {
   "cell_type": "markdown",
   "id": "02caf004",
   "metadata": {},
   "source": [
    "#### Synthèse et Comparaison des Performances des Modèles de Détection de Fraude\n",
    "\n",
    "Après l'entraînement et l'évaluation de plusieurs modèles de classification supervisée sur notre ensemble de données, une analyse comparative des métriques clés (Accuracy, Précision, Rappel) nous permet d'identifier l'approche la plus performante pour la détection de fraude.\n",
    "\n",
    "\n",
    "##### Analyse Qualitative des Modèles :\n",
    "- Régression Logistique (Logistic Regression) :\n",
    "Ce modèle, connu pour sa rapidité et sa stabilité, particulièrement efficace sur des données linéaires, a démontré une bonne précision (0.75). Cependant, son rappel (0.62) indique une détection incomplète des cas de fraude réels, ce qui peut être problématique pour notre objectif.\n",
    "\n",
    "- Arbre de Décision (Decision Tree) :\n",
    "L'Arbre de Décision offre l'avantage d'être facilement interprétable, permettant de comprendre les règles de décision sous-jacentes. Néanmoins, ses performances sont mitigées : avec une précision de 0.60, il a tendance à générer davantage de faux positifs, et malgré un rappel légèrement supérieur (0.65) à la régression logistique, il reste vulnérable au sur-apprentissage.\n",
    "\n",
    "- Forêt Aléatoire (Random Forest) :\n",
    "Le modèle de Forêt Aléatoire se distingue comme le plus équilibré et performant de notre sélection. Avec une accuracy de 0.96, une précision de 0.82 et un rappel de 0.70, il offre un excellent compromis entre la fiabilité des prédictions et la capacité à identifier un maximum de fraudes, tout en maintenant un taux acceptable de faux positifs. Sa robustesse face à l'overfitting et sa capacité à gérer des données complexes en font un candidat de choix.\n",
    "\n",
    "- Machines à Vecteurs de Support (SVM) :\n",
    "Le SVM a également montré un bon compromis de performances, se rapprochant de la Forêt Aléatoire avec une précision de 0.76 et un rappel de 0.68. Bien que performant, il peut s'avérer plus lent et plus gourmand en ressources que Random Forest, notamment avec des ensembles de données de grande taille.\n",
    "\n",
    "##### Conclusion :\n",
    "Après une évaluation rigoureuse, le modèle Random Forest est clairement identifié comme le plus performant pour notre tâche de détection de fraude. Il atteint une accuracy globale de 96%, avec une précision de 82% (minimisant les alertes inutiles) et un rappel de 70% (maximisant la détection des fraudes réelles).\n",
    "\n",
    "Cet équilibre optimal entre la fiabilité des prédictions et la capacité à identifier les cas de fraude, tout en limitant les faux positifs, fait de Random Forest le candidat idéal. Par conséquent, ce modèle sera retenu pour les étapes suivantes du projet, incluant sa sauvegarde, son déploiement et le développement de l'interface utilisateur."
   ]
  },
  {
   "cell_type": "markdown",
   "id": "4ffb509d",
   "metadata": {},
   "source": [
    "### 9 Sauvegarder le meilleur modèle. "
   ]
  },
  {
   "cell_type": "code",
   "execution_count": 28,
   "id": "67ff7fb7",
   "metadata": {},
   "outputs": [
    {
     "name": "stdout",
     "output_type": "stream",
     "text": [
      " Modèle sauvegardé dans le fichier 'modele_fraude.pkl'\n"
     ]
    }
   ],
   "source": [
    "import joblib\n",
    "\n",
    "best_model = trained_models[\"Random Forest\"]\n",
    "joblib.dump(best_model, \"modele_fraude.pkl\")\n",
    "print(\" Modèle sauvegardé dans le fichier 'modele_fraude.pkl'\")\n"
   ]
  },
  {
   "cell_type": "code",
   "execution_count": 29,
   "id": "b4951b61",
   "metadata": {},
   "outputs": [
    {
     "name": "stdout",
     "output_type": "stream",
     "text": [
      " Modèle sauvegardé dans le fichier 'mon_scaler.pkl'\n"
     ]
    }
   ],
   "source": [
    "# 2. Appliquer le scaler\n",
    "scaler = StandardScaler()\n",
    "X_train_scaled = scaler.fit_transform(X_train)\n",
    "\n",
    "# 3. Entraîner le modèle\n",
    "model = RandomForestClassifier()\n",
    "model.fit(X_train_scaled, y_train)\n",
    "\n",
    "# 4. Sauvegarder le modèle et le scaler\n",
    "joblib.dump(scaler, \"mon_scaler.pkl\")\n",
    "print(\" Modèle sauvegardé dans le fichier 'mon_scaler.pkl'\")"
   ]
  },
  {
   "cell_type": "markdown",
   "id": "2c7bee3f",
   "metadata": {},
   "source": [
    "### Charger le modèle plus tard\n",
    "\n"
   ]
  },
  {
   "cell_type": "code",
   "execution_count": 30,
   "id": "52e0c7da",
   "metadata": {},
   "outputs": [],
   "source": [
    "modele_charge = joblib.load(\"modele_fraude.pkl\")\n",
    "\n",
    "# Utilisation pour prédiction\n",
    "#modele_charge.predict([liste_de_valeurs])\n"
   ]
  },
  {
   "cell_type": "code",
   "execution_count": 31,
   "id": "779c802e",
   "metadata": {},
   "outputs": [
    {
     "name": "stdout",
     "output_type": "stream",
     "text": [
      "Scikit-learn version in current environment: 1.7.0\n"
     ]
    }
   ],
   "source": [
    "import sklearn\n",
    "print(f\"Scikit-learn version in current environment: {sklearn.__version__}\")"
   ]
  }
 ],
 "metadata": {
  "kernelspec": {
   "display_name": "Python 3",
   "language": "python",
   "name": "python3"
  },
  "language_info": {
   "codemirror_mode": {
    "name": "ipython",
    "version": 3
   },
   "file_extension": ".py",
   "mimetype": "text/x-python",
   "name": "python",
   "nbconvert_exporter": "python",
   "pygments_lexer": "ipython3",
   "version": "3.12.0"
  }
 },
 "nbformat": 4,
 "nbformat_minor": 5
}
